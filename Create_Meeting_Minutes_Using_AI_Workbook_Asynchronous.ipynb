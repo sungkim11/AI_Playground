{
  "nbformat": 4,
  "nbformat_minor": 0,
  "metadata": {
    "colab": {
      "provenance": [],
      "authorship_tag": "ABX9TyOJ48za5wTAlDn4c0DECkEE",
      "include_colab_link": true
    },
    "kernelspec": {
      "name": "python3",
      "display_name": "Python 3"
    },
    "language_info": {
      "name": "python"
    },
    "gpuClass": "standard"
  },
  "cells": [
    {
      "cell_type": "markdown",
      "metadata": {
        "id": "view-in-github",
        "colab_type": "text"
      },
      "source": [
        "<a href=\"https://colab.research.google.com/github/sungkim11/ai-playground/blob/main/Create_Meeting_Minutes_Using_AI_Workbook_Asynchronous.ipynb\" target=\"_parent\"><img src=\"https://colab.research.google.com/assets/colab-badge.svg\" alt=\"Open In Colab\"/></a>"
      ]
    },
    {
      "cell_type": "markdown",
      "source": [
        "#Create a Meeting Minute using OpenAI's GPT-3 from both Microsoft Team's Meeting Transcript or Zoom's Meeting Transcript (Asynchronous)"
      ],
      "metadata": {
        "id": "vC0t_IHQgV6-"
      }
    },
    {
      "cell_type": "markdown",
      "source": [
        "This is my endeavor to replicate upcoming Microsoft Team Premium feature to create meeting notes using AI."
      ],
      "metadata": {
        "id": "N7R-tsFJgr7j"
      }
    },
    {
      "cell_type": "markdown",
      "source": [
        "##1. Prerequisites"
      ],
      "metadata": {
        "id": "4b_S-B5jg7f2"
      }
    },
    {
      "cell_type": "markdown",
      "source": [
        "The following are prerequisites for this tutorial:\n",
        "\n",
        "- Python Package: openai\n",
        "- Python Package: torch and transformers\n",
        "\n",
        "- Python Package: asyncio\n",
        "- Python Package: nest-asyncio\n",
        "- Python Package: openai-async\n"
      ],
      "metadata": {
        "id": "DfTwEED_g_kb"
      }
    },
    {
      "cell_type": "markdown",
      "source": [
        "###1.1. Python Packages"
      ],
      "metadata": {
        "id": "hEIroo2BhEzH"
      }
    },
    {
      "cell_type": "markdown",
      "source": [
        "####1.1.1. Install Python Packages"
      ],
      "metadata": {
        "id": "z8G98yU0z8y_"
      }
    },
    {
      "cell_type": "code",
      "execution_count": 43,
      "metadata": {
        "id": "-uNn49xIzMq7",
        "colab": {
          "base_uri": "https://localhost:8080/",
          "height": 34
        },
        "outputId": "d0fa1a4c-d3d5-4deb-89ca-583c535402cf"
      },
      "outputs": [
        {
          "output_type": "display_data",
          "data": {
            "text/plain": [
              "<IPython.core.display.HTML object>"
            ],
            "text/html": [
              "\n",
              "  <style>\n",
              "    pre {\n",
              "        white-space: pre-wrap;\n",
              "    }\n",
              "  </style>\n",
              "  "
            ]
          },
          "metadata": {}
        },
        {
          "output_type": "stream",
          "name": "stdout",
          "text": [
            "Overwriting requirements.txt\n"
          ]
        }
      ],
      "source": [
        "%%writefile requirements.txt\n",
        "openai\n",
        "openai-async\n",
        "asyncio\n",
        "nest-asyncio\n",
        "torch==1.13.1+cu116\n",
        "transformers==4.26.1"
      ]
    },
    {
      "cell_type": "code",
      "source": [
        "%pip install -r requirements.txt"
      ],
      "metadata": {
        "id": "fdJwUNoszSIp",
        "colab": {
          "base_uri": "https://localhost:8080/",
          "height": 1000
        },
        "outputId": "5af5e9c9-efa6-4c48-f7e9-30cb07f8887a"
      },
      "execution_count": 44,
      "outputs": [
        {
          "output_type": "display_data",
          "data": {
            "text/plain": [
              "<IPython.core.display.HTML object>"
            ],
            "text/html": [
              "\n",
              "  <style>\n",
              "    pre {\n",
              "        white-space: pre-wrap;\n",
              "    }\n",
              "  </style>\n",
              "  "
            ]
          },
          "metadata": {}
        },
        {
          "output_type": "stream",
          "name": "stdout",
          "text": [
            "Looking in indexes: https://pypi.org/simple, https://us-python.pkg.dev/colab-wheels/public/simple/\n",
            "Requirement already satisfied: openai in /usr/local/lib/python3.8/dist-packages (from -r requirements.txt (line 1)) (0.26.5)\n",
            "Requirement already satisfied: openai-async in /usr/local/lib/python3.8/dist-packages (from -r requirements.txt (line 2)) (0.0.2)\n",
            "Collecting asyncio\n",
            "  Downloading asyncio-3.4.3-py3-none-any.whl (101 kB)\n",
            "\u001b[2K     \u001b[90m━━━━━━━━━━━━━━━━━━━━━━━━━━━━━━━━━━━━━━━\u001b[0m \u001b[32m101.8/101.8 KB\u001b[0m \u001b[31m7.5 MB/s\u001b[0m eta \u001b[36m0:00:00\u001b[0m\n",
            "\u001b[?25hRequirement already satisfied: nest-asyncio in /usr/local/lib/python3.8/dist-packages (from -r requirements.txt (line 4)) (1.5.6)\n",
            "Requirement already satisfied: torch==1.13.1+cu116 in /usr/local/lib/python3.8/dist-packages (from -r requirements.txt (line 5)) (1.13.1+cu116)\n",
            "Requirement already satisfied: transformers==4.26.1 in /usr/local/lib/python3.8/dist-packages (from -r requirements.txt (line 6)) (4.26.1)\n",
            "Requirement already satisfied: typing-extensions in /usr/local/lib/python3.8/dist-packages (from torch==1.13.1+cu116->-r requirements.txt (line 5)) (4.5.0)\n",
            "Requirement already satisfied: filelock in /usr/local/lib/python3.8/dist-packages (from transformers==4.26.1->-r requirements.txt (line 6)) (3.9.0)\n",
            "Requirement already satisfied: tokenizers!=0.11.3,<0.14,>=0.11.1 in /usr/local/lib/python3.8/dist-packages (from transformers==4.26.1->-r requirements.txt (line 6)) (0.13.2)\n",
            "Requirement already satisfied: requests in /usr/local/lib/python3.8/dist-packages (from transformers==4.26.1->-r requirements.txt (line 6)) (2.25.1)\n",
            "Requirement already satisfied: regex!=2019.12.17 in /usr/local/lib/python3.8/dist-packages (from transformers==4.26.1->-r requirements.txt (line 6)) (2022.6.2)\n",
            "Requirement already satisfied: tqdm>=4.27 in /usr/local/lib/python3.8/dist-packages (from transformers==4.26.1->-r requirements.txt (line 6)) (4.64.1)\n",
            "Requirement already satisfied: packaging>=20.0 in /usr/local/lib/python3.8/dist-packages (from transformers==4.26.1->-r requirements.txt (line 6)) (23.0)\n",
            "Requirement already satisfied: numpy>=1.17 in /usr/local/lib/python3.8/dist-packages (from transformers==4.26.1->-r requirements.txt (line 6)) (1.21.6)\n",
            "Requirement already satisfied: pyyaml>=5.1 in /usr/local/lib/python3.8/dist-packages (from transformers==4.26.1->-r requirements.txt (line 6)) (6.0)\n",
            "Requirement already satisfied: huggingface-hub<1.0,>=0.11.0 in /usr/local/lib/python3.8/dist-packages (from transformers==4.26.1->-r requirements.txt (line 6)) (0.12.1)\n",
            "Requirement already satisfied: aiohttp in /usr/local/lib/python3.8/dist-packages (from openai->-r requirements.txt (line 1)) (3.8.4)\n",
            "Requirement already satisfied: pytest in /usr/local/lib/python3.8/dist-packages (from openai-async->-r requirements.txt (line 2)) (3.6.4)\n",
            "Requirement already satisfied: httpx in /usr/local/lib/python3.8/dist-packages (from openai-async->-r requirements.txt (line 2)) (0.23.3)\n",
            "Requirement already satisfied: chardet<5,>=3.0.2 in /usr/local/lib/python3.8/dist-packages (from requests->transformers==4.26.1->-r requirements.txt (line 6)) (4.0.0)\n",
            "Requirement already satisfied: urllib3<1.27,>=1.21.1 in /usr/local/lib/python3.8/dist-packages (from requests->transformers==4.26.1->-r requirements.txt (line 6)) (1.24.3)\n",
            "Requirement already satisfied: certifi>=2017.4.17 in /usr/local/lib/python3.8/dist-packages (from requests->transformers==4.26.1->-r requirements.txt (line 6)) (2022.12.7)\n",
            "Requirement already satisfied: idna<3,>=2.5 in /usr/local/lib/python3.8/dist-packages (from requests->transformers==4.26.1->-r requirements.txt (line 6)) (2.10)\n",
            "Requirement already satisfied: multidict<7.0,>=4.5 in /usr/local/lib/python3.8/dist-packages (from aiohttp->openai->-r requirements.txt (line 1)) (6.0.4)\n",
            "Requirement already satisfied: yarl<2.0,>=1.0 in /usr/local/lib/python3.8/dist-packages (from aiohttp->openai->-r requirements.txt (line 1)) (1.8.2)\n",
            "Requirement already satisfied: aiosignal>=1.1.2 in /usr/local/lib/python3.8/dist-packages (from aiohttp->openai->-r requirements.txt (line 1)) (1.3.1)\n",
            "Requirement already satisfied: charset-normalizer<4.0,>=2.0 in /usr/local/lib/python3.8/dist-packages (from aiohttp->openai->-r requirements.txt (line 1)) (3.0.1)\n",
            "Requirement already satisfied: frozenlist>=1.1.1 in /usr/local/lib/python3.8/dist-packages (from aiohttp->openai->-r requirements.txt (line 1)) (1.3.3)\n",
            "Requirement already satisfied: attrs>=17.3.0 in /usr/local/lib/python3.8/dist-packages (from aiohttp->openai->-r requirements.txt (line 1)) (22.2.0)\n",
            "Requirement already satisfied: async-timeout<5.0,>=4.0.0a3 in /usr/local/lib/python3.8/dist-packages (from aiohttp->openai->-r requirements.txt (line 1)) (4.0.2)\n",
            "Requirement already satisfied: rfc3986[idna2008]<2,>=1.3 in /usr/local/lib/python3.8/dist-packages (from httpx->openai-async->-r requirements.txt (line 2)) (1.5.0)\n",
            "Requirement already satisfied: sniffio in /usr/local/lib/python3.8/dist-packages (from httpx->openai-async->-r requirements.txt (line 2)) (1.3.0)\n",
            "Requirement already satisfied: httpcore<0.17.0,>=0.15.0 in /usr/local/lib/python3.8/dist-packages (from httpx->openai-async->-r requirements.txt (line 2)) (0.16.3)\n",
            "Requirement already satisfied: more-itertools>=4.0.0 in /usr/local/lib/python3.8/dist-packages (from pytest->openai-async->-r requirements.txt (line 2)) (9.0.0)\n",
            "Requirement already satisfied: atomicwrites>=1.0 in /usr/local/lib/python3.8/dist-packages (from pytest->openai-async->-r requirements.txt (line 2)) (1.4.1)\n",
            "Requirement already satisfied: six>=1.10.0 in /usr/local/lib/python3.8/dist-packages (from pytest->openai-async->-r requirements.txt (line 2)) (1.15.0)\n",
            "Requirement already satisfied: setuptools in /usr/local/lib/python3.8/dist-packages (from pytest->openai-async->-r requirements.txt (line 2)) (57.4.0)\n",
            "Requirement already satisfied: pluggy<0.8,>=0.5 in /usr/local/lib/python3.8/dist-packages (from pytest->openai-async->-r requirements.txt (line 2)) (0.7.1)\n",
            "Requirement already satisfied: py>=1.5.0 in /usr/local/lib/python3.8/dist-packages (from pytest->openai-async->-r requirements.txt (line 2)) (1.11.0)\n",
            "Requirement already satisfied: h11<0.15,>=0.13 in /usr/local/lib/python3.8/dist-packages (from httpcore<0.17.0,>=0.15.0->httpx->openai-async->-r requirements.txt (line 2)) (0.14.0)\n",
            "Requirement already satisfied: anyio<5.0,>=3.0 in /usr/local/lib/python3.8/dist-packages (from httpcore<0.17.0,>=0.15.0->httpx->openai-async->-r requirements.txt (line 2)) (3.6.2)\n",
            "Installing collected packages: asyncio\n",
            "Successfully installed asyncio-3.4.3\n"
          ]
        },
        {
          "output_type": "display_data",
          "data": {
            "application/vnd.colab-display-data+json": {
              "pip_warning": {
                "packages": [
                  "asyncio"
                ]
              }
            }
          },
          "metadata": {}
        }
      ]
    },
    {
      "cell_type": "markdown",
      "source": [
        "##2. Code"
      ],
      "metadata": {
        "id": "dzLhnP--hOxp"
      }
    },
    {
      "cell_type": "markdown",
      "source": [
        "Colab code to prettify text output."
      ],
      "metadata": {
        "id": "lGFFGcY1tasJ"
      }
    },
    {
      "cell_type": "code",
      "source": [
        "from IPython.display import HTML, display\n",
        "\n",
        "def set_css():\n",
        "  display(HTML('''\n",
        "  <style>\n",
        "    pre {\n",
        "        white-space: pre-wrap;\n",
        "    }\n",
        "  </style>\n",
        "  '''))\n",
        "get_ipython().events.register('pre_run_cell', set_css)"
      ],
      "metadata": {
        "id": "Ow3tBDBfseRE"
      },
      "execution_count": 1,
      "outputs": []
    },
    {
      "cell_type": "markdown",
      "source": [
        "###2.1. Import Python Packages"
      ],
      "metadata": {
        "id": "WmRPmprK0GM-"
      }
    },
    {
      "cell_type": "code",
      "source": [
        "import platform\n",
        "import os\n",
        "\n",
        "import openai\n",
        "import openai_async\n",
        "\n",
        "import asyncio\n",
        "import nest_asyncio\n",
        "nest_asyncio.apply()\n",
        "\n",
        "import re\n",
        "from os.path import splitext, exists\n",
        "\n",
        "import torch\n",
        "import transformers\n",
        "from transformers import AutoTokenizer\n",
        "\n",
        "print('Python: ', platform.python_version())\n",
        "print('re: ', re.__version__)\n",
        "print('torch: ', torch.__version__)\n",
        "print('transformers: ', transformers.__version__)"
      ],
      "metadata": {
        "id": "0Zs3zeEy0HXX",
        "colab": {
          "base_uri": "https://localhost:8080/",
          "height": 86
        },
        "outputId": "e468b850-a4a0-4bd7-efaf-d364a96df090"
      },
      "execution_count": 2,
      "outputs": [
        {
          "output_type": "display_data",
          "data": {
            "text/plain": [
              "<IPython.core.display.HTML object>"
            ],
            "text/html": [
              "\n",
              "  <style>\n",
              "    pre {\n",
              "        white-space: pre-wrap;\n",
              "    }\n",
              "  </style>\n",
              "  "
            ]
          },
          "metadata": {}
        },
        {
          "output_type": "stream",
          "name": "stdout",
          "text": [
            "Python:  3.8.10\n",
            "re:  2.2.1\n",
            "torch:  1.13.1+cu116\n",
            "transformers:  4.26.1\n"
          ]
        }
      ]
    },
    {
      "cell_type": "markdown",
      "source": [
        "###2.2. Mount Storage - Google Drive"
      ],
      "metadata": {
        "id": "_5EJ0NJHzmxx"
      }
    },
    {
      "cell_type": "code",
      "source": [
        "from google.colab import drive\n",
        "drive.mount('/content/drive')"
      ],
      "metadata": {
        "id": "Tx1d61zFzkMT",
        "colab": {
          "base_uri": "https://localhost:8080/",
          "height": 34
        },
        "outputId": "a45f4696-3a8f-4455-dc9f-9cfc2f7497c5"
      },
      "execution_count": 3,
      "outputs": [
        {
          "output_type": "display_data",
          "data": {
            "text/plain": [
              "<IPython.core.display.HTML object>"
            ],
            "text/html": [
              "\n",
              "  <style>\n",
              "    pre {\n",
              "        white-space: pre-wrap;\n",
              "    }\n",
              "  </style>\n",
              "  "
            ]
          },
          "metadata": {}
        },
        {
          "output_type": "stream",
          "name": "stdout",
          "text": [
            "Drive already mounted at /content/drive; to attempt to forcibly remount, call drive.mount(\"/content/drive\", force_remount=True).\n"
          ]
        }
      ]
    },
    {
      "cell_type": "markdown",
      "source": [
        "###2.3. Clean Meeting Transcript from either Microsoft Team or Zoom, encoded as WEBVTT file."
      ],
      "metadata": {
        "id": "qj6-FtO2zsb8"
      }
    },
    {
      "cell_type": "markdown",
      "source": [
        "The meeting transcript is encoded as follows:\n",
        "\n",
        "    WEBVTT\n",
        "    \n",
        "    03951482-18bc-403b-9a4f-9d2699587f03/65-1\n",
        "    00:00:08.885 --> 00:00:13.589\n",
        "    transcription making sure that\n",
        "    the transcription does work. Yep"
      ],
      "metadata": {
        "id": "jvuyPQvdiTq1"
      }
    },
    {
      "cell_type": "markdown",
      "source": [
        "This is not usually problem with ChatGPT, but OpenAI GPT-3 API charges by a token and we want to minimize the number of tokens sending to it. We will need to remove all lines that is not a transcript."
      ],
      "metadata": {
        "id": "dW6bAm4WjRTz"
      }
    },
    {
      "cell_type": "markdown",
      "source": [
        "These two functions clean up .vtt file and then produce a clean text file with the same filename with an extension of .txt."
      ],
      "metadata": {
        "id": "5I6qHWX9kJb5"
      }
    },
    {
      "cell_type": "code",
      "source": [
        "def clean_webvtt(filepath: str) -> str:\n",
        "    \"\"\"Clean up the content of a subtitle file (vtt) to a string\n",
        "\n",
        "    Args:\n",
        "        filepath (str): path to vtt file\n",
        "\n",
        "    Returns:\n",
        "        str: clean content\n",
        "    \"\"\"\n",
        "    # read file content\n",
        "    with open(filepath, \"r\", encoding=\"utf-8\") as fp:\n",
        "        content = fp.read()\n",
        "\n",
        "    # remove header & empty lines\n",
        "    lines = [line.strip() for line in content.split(\"\\n\") if line.strip()]\n",
        "    lines = lines[1:] if lines[0].upper() == \"WEBVTT\" else lines\n",
        "\n",
        "    # remove indexes\n",
        "    lines = [lines[i] for i in range(len(lines)) if not lines[i].isdigit()]\n",
        "\n",
        "    # remove tcode\n",
        "    #pattern = re.compile(r'^[0-9:.]{12} --> [0-9:.]{12}')\n",
        "    pattern = r'[a-f\\d]{8}-[a-f\\d]{4}-[a-f\\d]{4}-[a-f\\d]{4}-[a-f\\d]{12}\\/\\d+-\\d'\n",
        "    lines = [lines[i] for i in range(len(lines))\n",
        "             if not re.match(pattern, lines[i])]\n",
        "\n",
        "    # remove timestamps\n",
        "    pattern = r\"^\\d{2}:\\d{2}:\\d{2}.\\d{3}.*\\d{2}:\\d{2}:\\d{2}.\\d{3}$\"\n",
        "    lines = [lines[i] for i in range(len(lines))\n",
        "             if not re.match(pattern, lines[i])]\n",
        "\n",
        "    content = \" \".join(lines)\n",
        "\n",
        "    # remove duplicate spaces\n",
        "    pattern = r\"\\s+\"\n",
        "    content = re.sub(pattern, r\" \", content)\n",
        "\n",
        "    # add space after punctuation marks if it doesn't exist\n",
        "    pattern = r\"([\\.!?])(\\w)\"\n",
        "    content = re.sub(pattern, r\"\\1 \\2\", content)\n",
        "\n",
        "    return content\n",
        "\n",
        "\n",
        "def vtt_to_clean_file(file_in: str, file_out=None, **kwargs) -> str:\n",
        "    \"\"\"Save clean content of a subtitle file to text file\n",
        "\n",
        "    Args:\n",
        "        file_in (str): path to vtt file\n",
        "        file_out (None, optional): path to text file\n",
        "        **kwargs (optional): arguments for other parameters\n",
        "            - no_message (bool): do not show message of result.\n",
        "                                 Default is False\n",
        "\n",
        "    Returns:\n",
        "        str: path to text file\n",
        "    \"\"\"\n",
        "    # set default values\n",
        "    no_message = kwargs.get(\"no_message\", False)\n",
        "    if not file_out:\n",
        "        filename = splitext(file_in)[0]\n",
        "        file_out = \"%s.txt\" % filename\n",
        "        i = 0\n",
        "        while exists(file_out):\n",
        "            i += 1\n",
        "            file_out = \"%s_%s.txt\" % (filename, i)\n",
        "\n",
        "    content = clean_webvtt(file_in)\n",
        "    with open(file_out, \"w+\", encoding=\"utf-8\") as fp:\n",
        "        fp.write(content)\n",
        "    if not no_message:\n",
        "        print(\"clean content is written to file: %s\" % file_out)\n",
        "\n",
        "    return file_out"
      ],
      "metadata": {
        "id": "d1T3XitJ1Z58",
        "colab": {
          "base_uri": "https://localhost:8080/",
          "height": 17
        },
        "outputId": "f7821c18-da30-4e4e-f577-fc846eabb5e2"
      },
      "execution_count": 4,
      "outputs": [
        {
          "output_type": "display_data",
          "data": {
            "text/plain": [
              "<IPython.core.display.HTML object>"
            ],
            "text/html": [
              "\n",
              "  <style>\n",
              "    pre {\n",
              "        white-space: pre-wrap;\n",
              "    }\n",
              "  </style>\n",
              "  "
            ]
          },
          "metadata": {}
        }
      ]
    },
    {
      "cell_type": "code",
      "source": [
        "filepath = \"/content/drive/MyDrive/Colab Notebooks/minutes/data/Round_22_Online_Kickoff_Meeting.vtt\"\n",
        "\n",
        "vtt_to_clean_file(filepath)"
      ],
      "metadata": {
        "id": "ZHOtHSt60g91",
        "colab": {
          "base_uri": "https://localhost:8080/",
          "height": 52
        },
        "outputId": "d3ead50c-670f-42f1-8207-a79a2fd278ce"
      },
      "execution_count": 5,
      "outputs": [
        {
          "output_type": "display_data",
          "data": {
            "text/plain": [
              "<IPython.core.display.HTML object>"
            ],
            "text/html": [
              "\n",
              "  <style>\n",
              "    pre {\n",
              "        white-space: pre-wrap;\n",
              "    }\n",
              "  </style>\n",
              "  "
            ]
          },
          "metadata": {}
        },
        {
          "output_type": "stream",
          "name": "stdout",
          "text": [
            "clean content is written to file: /content/drive/MyDrive/Colab Notebooks/minutes/data/Round_22_Online_Kickoff_Meeting_5.txt\n"
          ]
        },
        {
          "output_type": "execute_result",
          "data": {
            "text/plain": [
              "'/content/drive/MyDrive/Colab Notebooks/minutes/data/Round_22_Online_Kickoff_Meeting_5.txt'"
            ],
            "application/vnd.google.colaboratory.intrinsic+json": {
              "type": "string"
            }
          },
          "metadata": {},
          "execution_count": 5
        }
      ]
    },
    {
      "cell_type": "markdown",
      "source": [
        "###2.4. Count the Number of Tokens"
      ],
      "metadata": {
        "id": "FC-sdhOqk7Qr"
      }
    },
    {
      "cell_type": "markdown",
      "source": [
        "OpenAI GPT-3 is limited by 4,001 tokens it can handle per request which includes both request (i.e., prompt) and response. We will be analyzing how many tokens are in this meeting transcript."
      ],
      "metadata": {
        "id": "HgPybdZ1kqTR"
      }
    },
    {
      "cell_type": "code",
      "source": [
        "def count_tokens(filename):\n",
        "    tokenizer = AutoTokenizer.from_pretrained(\"gpt2\")\n",
        "    with open(filename, 'r') as f:\n",
        "        text = f.read()\n",
        "\n",
        "    input_ids = torch.tensor(tokenizer.encode(text)).unsqueeze(0)\n",
        "    num_tokens = input_ids.shape[1]\n",
        "    return num_tokens"
      ],
      "metadata": {
        "colab": {
          "base_uri": "https://localhost:8080/",
          "height": 17
        },
        "id": "iy9QQE09E3cI",
        "outputId": "ea3f3f3f-23ca-4a70-dbdf-49ee9517a72e"
      },
      "execution_count": 6,
      "outputs": [
        {
          "output_type": "display_data",
          "data": {
            "text/plain": [
              "<IPython.core.display.HTML object>"
            ],
            "text/html": [
              "\n",
              "  <style>\n",
              "    pre {\n",
              "        white-space: pre-wrap;\n",
              "    }\n",
              "  </style>\n",
              "  "
            ]
          },
          "metadata": {}
        }
      ]
    },
    {
      "cell_type": "code",
      "source": [
        "filename = \"/content/drive/MyDrive/Colab Notebooks/minutes/data/Round_22_Online_Kickoff_Meeting.txt\"\n",
        "token_count = count_tokens(filename)\n",
        "print(f\"Number of tokens: {token_count}\")"
      ],
      "metadata": {
        "colab": {
          "base_uri": "https://localhost:8080/",
          "height": 69
        },
        "id": "zyPjS1X-FpGh",
        "outputId": "41bc851f-f392-43ae-a2c8-b96422cc6ebf"
      },
      "execution_count": 7,
      "outputs": [
        {
          "output_type": "display_data",
          "data": {
            "text/plain": [
              "<IPython.core.display.HTML object>"
            ],
            "text/html": [
              "\n",
              "  <style>\n",
              "    pre {\n",
              "        white-space: pre-wrap;\n",
              "    }\n",
              "  </style>\n",
              "  "
            ]
          },
          "metadata": {}
        },
        {
          "output_type": "stream",
          "name": "stderr",
          "text": [
            "Token indices sequence length is longer than the specified maximum sequence length for this model (17537 > 1024). Running this sequence through the model will result in indexing errors\n"
          ]
        },
        {
          "output_type": "stream",
          "name": "stdout",
          "text": [
            "Number of tokens: 17537\n"
          ]
        }
      ]
    },
    {
      "cell_type": "markdown",
      "source": [
        "###2.5. Break up the Meeting Transcript into chunks of 2000 tokens with an overlap of 100 tokens"
      ],
      "metadata": {
        "id": "1oeA8ivUmql8"
      }
    },
    {
      "cell_type": "markdown",
      "source": [
        "We will be breaking up the Meeting Transcript into chunks of 2,000 tokens with an overlapping 100 tokens to ensure any information is not lost from breaking up the meeting transcript."
      ],
      "metadata": {
        "id": "JNGJroB_mvCa"
      }
    },
    {
      "cell_type": "code",
      "source": [
        "def break_up_file_to_chunks(filename, chunk_size=2000, overlap=100):\n",
        "    tokenizer = AutoTokenizer.from_pretrained(\"gpt2\")\n",
        "    with open(filename, 'r') as f:\n",
        "        text = f.read()\n",
        "\n",
        "    tokens = tokenizer.encode(text)\n",
        "    num_tokens = len(tokens)\n",
        "    \n",
        "    chunks = []\n",
        "    for i in range(0, num_tokens, chunk_size - overlap):\n",
        "        chunk = tokens[i:i + chunk_size]\n",
        "        chunks.append(chunk)\n",
        "    \n",
        "    return chunks"
      ],
      "metadata": {
        "colab": {
          "base_uri": "https://localhost:8080/",
          "height": 17
        },
        "id": "1WdNaxfbZUga",
        "outputId": "8feea10e-217a-4415-c696-7672efb96ad7"
      },
      "execution_count": 8,
      "outputs": [
        {
          "output_type": "display_data",
          "data": {
            "text/plain": [
              "<IPython.core.display.HTML object>"
            ],
            "text/html": [
              "\n",
              "  <style>\n",
              "    pre {\n",
              "        white-space: pre-wrap;\n",
              "    }\n",
              "  </style>\n",
              "  "
            ]
          },
          "metadata": {}
        }
      ]
    },
    {
      "cell_type": "code",
      "source": [
        "filename = \"/content/drive/MyDrive/Colab Notebooks/minutes/data/Round_22_Online_Kickoff_Meeting.txt\"\n",
        "\n",
        "chunks = break_up_file_to_chunks(filename)\n",
        "for i, chunk in enumerate(chunks):\n",
        "    print(f\"Chunk {i}: {len(chunk)} tokens\")"
      ],
      "metadata": {
        "colab": {
          "base_uri": "https://localhost:8080/",
          "height": 225
        },
        "id": "xMQ4XMAzm05T",
        "outputId": "bda7ab48-c361-472a-bb45-c92a42f9022d"
      },
      "execution_count": 9,
      "outputs": [
        {
          "output_type": "display_data",
          "data": {
            "text/plain": [
              "<IPython.core.display.HTML object>"
            ],
            "text/html": [
              "\n",
              "  <style>\n",
              "    pre {\n",
              "        white-space: pre-wrap;\n",
              "    }\n",
              "  </style>\n",
              "  "
            ]
          },
          "metadata": {}
        },
        {
          "output_type": "stream",
          "name": "stderr",
          "text": [
            "Token indices sequence length is longer than the specified maximum sequence length for this model (17537 > 1024). Running this sequence through the model will result in indexing errors\n"
          ]
        },
        {
          "output_type": "stream",
          "name": "stdout",
          "text": [
            "Chunk 0: 2000 tokens\n",
            "Chunk 1: 2000 tokens\n",
            "Chunk 2: 2000 tokens\n",
            "Chunk 3: 2000 tokens\n",
            "Chunk 4: 2000 tokens\n",
            "Chunk 5: 2000 tokens\n",
            "Chunk 6: 2000 tokens\n",
            "Chunk 7: 2000 tokens\n",
            "Chunk 8: 2000 tokens\n",
            "Chunk 9: 437 tokens\n"
          ]
        }
      ]
    },
    {
      "cell_type": "markdown",
      "source": [
        "###2.6. Validate the break up the Meeting Transcript into chunks of 2000 tokens with an overlap of 100 tokens"
      ],
      "metadata": {
        "id": "rdKOVSLcnH0J"
      }
    },
    {
      "cell_type": "code",
      "source": [
        "tokenizer = AutoTokenizer.from_pretrained(\"gpt2\")"
      ],
      "metadata": {
        "colab": {
          "base_uri": "https://localhost:8080/",
          "height": 17
        },
        "id": "RIf2areN1kxu",
        "outputId": "1483e3e0-6a18-451e-8cb2-f8cd7202e28b"
      },
      "execution_count": 10,
      "outputs": [
        {
          "output_type": "display_data",
          "data": {
            "text/plain": [
              "<IPython.core.display.HTML object>"
            ],
            "text/html": [
              "\n",
              "  <style>\n",
              "    pre {\n",
              "        white-space: pre-wrap;\n",
              "    }\n",
              "  </style>\n",
              "  "
            ]
          },
          "metadata": {}
        }
      ]
    },
    {
      "cell_type": "code",
      "source": [
        "print(tokenizer.decode(chunks[0][-100:]))"
      ],
      "metadata": {
        "colab": {
          "base_uri": "https://localhost:8080/",
          "height": 86
        },
        "id": "mGd43PG3nvie",
        "outputId": "05d190ec-abf0-4fde-a6ef-8e9a7d6b0646"
      },
      "execution_count": 11,
      "outputs": [
        {
          "output_type": "display_data",
          "data": {
            "text/plain": [
              "<IPython.core.display.HTML object>"
            ],
            "text/html": [
              "\n",
              "  <style>\n",
              "    pre {\n",
              "        white-space: pre-wrap;\n",
              "    }\n",
              "  </style>\n",
              "  "
            ]
          },
          "metadata": {}
        },
        {
          "output_type": "stream",
          "name": "stdout",
          "text": [
            " So you you can look across all of these open textbooks at once, too. So we will work with you on getting any materials that you've created into an instance of manifold. If they're just ancillary materials that you can download, we'll put them up for download. If you're creating an entirely new open textbook, then we'll help you in getting this into manifold in a really cool way. We even have some training resources in here, including a champions welcome training and kickoff training\n"
          ]
        }
      ]
    },
    {
      "cell_type": "code",
      "source": [
        "print(tokenizer.decode(chunks[1][:100]))"
      ],
      "metadata": {
        "colab": {
          "base_uri": "https://localhost:8080/",
          "height": 86
        },
        "id": "hpkKJOqeJjx-",
        "outputId": "c04f4b35-32ff-4cdb-d5ef-a9310ce3c88e"
      },
      "execution_count": 12,
      "outputs": [
        {
          "output_type": "display_data",
          "data": {
            "text/plain": [
              "<IPython.core.display.HTML object>"
            ],
            "text/html": [
              "\n",
              "  <style>\n",
              "    pre {\n",
              "        white-space: pre-wrap;\n",
              "    }\n",
              "  </style>\n",
              "  "
            ]
          },
          "metadata": {}
        },
        {
          "output_type": "stream",
          "name": "stdout",
          "text": [
            " So you you can look across all of these open textbooks at once, too. So we will work with you on getting any materials that you've created into an instance of manifold. If they're just ancillary materials that you can download, we'll put them up for download. If you're creating an entirely new open textbook, then we'll help you in getting this into manifold in a really cool way. We even have some training resources in here, including a champions welcome training and kickoff training\n"
          ]
        }
      ]
    },
    {
      "cell_type": "code",
      "source": [
        "if tokenizer.decode(chunks[0][-100:]) == tokenizer.decode(chunks[1][:100]):\n",
        "    print('Overlap is Good')\n",
        "else:\n",
        "    print('Overlap is Not Good')"
      ],
      "metadata": {
        "colab": {
          "base_uri": "https://localhost:8080/",
          "height": 34
        },
        "id": "RplGPGmDFEph",
        "outputId": "8f627bf0-8dfd-45e2-ecf9-fc42068bc2f0"
      },
      "execution_count": 13,
      "outputs": [
        {
          "output_type": "display_data",
          "data": {
            "text/plain": [
              "<IPython.core.display.HTML object>"
            ],
            "text/html": [
              "\n",
              "  <style>\n",
              "    pre {\n",
              "        white-space: pre-wrap;\n",
              "    }\n",
              "  </style>\n",
              "  "
            ]
          },
          "metadata": {}
        },
        {
          "output_type": "stream",
          "name": "stdout",
          "text": [
            "Overlap is Good\n"
          ]
        }
      ]
    },
    {
      "cell_type": "markdown",
      "source": [
        "###2.7. Set OpenAI API Key"
      ],
      "metadata": {
        "id": "I7ZEq816LCWr"
      }
    },
    {
      "cell_type": "markdown",
      "source": [
        "Please note that OpenAI's API service is not free, unlike ChatGPT demo. You will need to sign up for a service with them to get an API key, which requires payment information."
      ],
      "metadata": {
        "id": "lyDKuS7CLHJv"
      }
    },
    {
      "cell_type": "markdown",
      "source": [
        "Set an environment variable called “OPEN_API_KEY” and assign a secret API key from OpenAI (https://beta.openai.com/account/api-keys)."
      ],
      "metadata": {
        "id": "1gnYy6NrLJf7"
      }
    },
    {
      "cell_type": "code",
      "source": [
        "os.environ[\"OPENAI_API_KEY\"] = 'openai api key'"
      ],
      "metadata": {
        "id": "GL4KCDfsK3mD",
        "colab": {
          "base_uri": "https://localhost:8080/",
          "height": 17
        },
        "outputId": "a6317ccd-6aed-4b02-cfb1-1294893ef7fa"
      },
      "execution_count": 14,
      "outputs": [
        {
          "output_type": "display_data",
          "data": {
            "text/plain": [
              "<IPython.core.display.HTML object>"
            ],
            "text/html": [
              "\n",
              "  <style>\n",
              "    pre {\n",
              "        white-space: pre-wrap;\n",
              "    }\n",
              "  </style>\n",
              "  "
            ]
          },
          "metadata": {}
        }
      ]
    },
    {
      "cell_type": "code",
      "source": [
        "openai.api_key = os.getenv(\"OPENAI_API_KEY\")"
      ],
      "metadata": {
        "id": "NALIE4VOLfEY",
        "colab": {
          "base_uri": "https://localhost:8080/",
          "height": 17
        },
        "outputId": "bd31d900-ed7c-49a1-b3a3-5b5fca3a3901"
      },
      "execution_count": 15,
      "outputs": [
        {
          "output_type": "display_data",
          "data": {
            "text/plain": [
              "<IPython.core.display.HTML object>"
            ],
            "text/html": [
              "\n",
              "  <style>\n",
              "    pre {\n",
              "        white-space: pre-wrap;\n",
              "    }\n",
              "  </style>\n",
              "  "
            ]
          },
          "metadata": {}
        }
      ]
    },
    {
      "cell_type": "markdown",
      "source": [
        "###2.8. Summarize the Meeting Transcript"
      ],
      "metadata": {
        "id": "_LgrIt-an-7T"
      }
    },
    {
      "cell_type": "markdown",
      "source": [
        "####2.8.1. Summarize the Meeting Transcript one chunk at a time."
      ],
      "metadata": {
        "id": "xBSXqVbJom1N"
      }
    },
    {
      "cell_type": "code",
      "source": [
        "async def summarize_meeting(prompt, timeout, max_tokens):\n",
        "    \n",
        "    #timeout = 30\n",
        "    temperature = 0.5\n",
        "    #max_tokens = 1000\n",
        "    top_p = 1\n",
        "    frequency_penalty = 0\n",
        "    presence_penalty = 0\n",
        "    \n",
        "    # Call the OpenAI GPT-3 API\n",
        "    response = await openai_async.complete(\n",
        "        openai.api_key,\n",
        "        timeout=timeout,\n",
        "        payload={\n",
        "            \"model\": \"text-davinci-003\",\n",
        "            \"prompt\": prompt,\n",
        "            \"temperature\": temperature,\n",
        "            \"max_tokens\": max_tokens,\n",
        "            \"top_p\": top_p,\n",
        "            \"frequency_penalty\": frequency_penalty,\n",
        "            \"presence_penalty\": presence_penalty\n",
        "        },\n",
        "    )\n",
        "\n",
        "    # Return the generated text\n",
        "    return response"
      ],
      "metadata": {
        "colab": {
          "base_uri": "https://localhost:8080/",
          "height": 17
        },
        "id": "GESDPr5p3JeM",
        "outputId": "fc39fba8-fe59-4b60-a39d-02f4569820b2"
      },
      "execution_count": 38,
      "outputs": [
        {
          "output_type": "display_data",
          "data": {
            "text/plain": [
              "<IPython.core.display.HTML object>"
            ],
            "text/html": [
              "\n",
              "  <style>\n",
              "    pre {\n",
              "        white-space: pre-wrap;\n",
              "    }\n",
              "  </style>\n",
              "  "
            ]
          },
          "metadata": {}
        }
      ]
    },
    {
      "cell_type": "code",
      "source": [
        "filename = \"/content/drive/MyDrive/Colab Notebooks/minutes/data/Round_22_Online_Kickoff_Meeting.txt\"\n",
        "\n",
        "prompt_response = []\n",
        "prompt_tokens = []\n",
        "\n",
        "chunks = break_up_file_to_chunks(filename)\n",
        "\n",
        "for i, chunk in enumerate(chunks):\n",
        "    prompt_request = \"Summarize this meeting transcript: \" + tokenizer.decode(chunks[i])\n",
        "    \n",
        "    loop = asyncio.get_event_loop()\n",
        "    response = loop.run_until_complete(summarize_meeting(prompt = prompt_request, timeout=30, max_tokens = 1000))\n",
        "    \n",
        "    prompt_response.append(response.json()[\"choices\"][0][\"text\"].strip())\n",
        "    prompt_tokens.append(response.json()[\"usage\"][\"total_tokens\"])"
      ],
      "metadata": {
        "colab": {
          "base_uri": "https://localhost:8080/",
          "height": 52
        },
        "id": "MVRhLczF5C40",
        "outputId": "022cb595-44db-41c8-8457-0ca4a5e35467"
      },
      "execution_count": 22,
      "outputs": [
        {
          "output_type": "display_data",
          "data": {
            "text/plain": [
              "<IPython.core.display.HTML object>"
            ],
            "text/html": [
              "\n",
              "  <style>\n",
              "    pre {\n",
              "        white-space: pre-wrap;\n",
              "    }\n",
              "  </style>\n",
              "  "
            ]
          },
          "metadata": {}
        },
        {
          "output_type": "stream",
          "name": "stderr",
          "text": [
            "Token indices sequence length is longer than the specified maximum sequence length for this model (17537 > 1024). Running this sequence through the model will result in indexing errors\n"
          ]
        }
      ]
    },
    {
      "cell_type": "code",
      "source": [
        "prompt_response"
      ],
      "metadata": {
        "colab": {
          "base_uri": "https://localhost:8080/",
          "height": 1000
        },
        "id": "2X6D7aNKCj7b",
        "outputId": "a7d7b319-f68b-4208-ff87-cd6eaac38b13"
      },
      "execution_count": 23,
      "outputs": [
        {
          "output_type": "display_data",
          "data": {
            "text/plain": [
              "<IPython.core.display.HTML object>"
            ],
            "text/html": [
              "\n",
              "  <style>\n",
              "    pre {\n",
              "        white-space: pre-wrap;\n",
              "    }\n",
              "  </style>\n",
              "  "
            ]
          },
          "metadata": {}
        },
        {
          "output_type": "execute_result",
          "data": {
            "text/plain": [
              "[\". So I think that's it for the ALG website.\\n\\nThis meeting was a kickoff for grant recipients awarded around 22 grants. The Affordable Learning Georgia website was shared as a hub for grantees to access resources including open educational resources, grant procedures, reporting deadlines, and grantee listserv. The two main repositories for OER created from the grants were discussed, and the features of the new Manifold platform were shared. Training resources were also highlighted.\",\n",
              " 'can turn on their cameras.\\n\\nThis meeting was about introducing the new ALG website, which will have a mega menu with sections on grants, resources, and news, as well as a data page. The website will also link to the Galileo Open Learning Materials repository, which contains old OER, and the Manifold repository, which is more interactive. The ALG Tracking Spreadsheet was also discussed, which is used to track data on grants such as the total award, the project lead, the course name and number, and the student savings. Lastly, the sustainability survey was mentioned, which is used to check in and make sure the work of the grant projects is still ongoing.',\n",
              " \"to help us with that. So we're really excited about that. And we're also going to include a lot of active learning activities, including some simulations and some role playing and things like that. So we're really excited about that. And we're hoping to have that ready for the fall of 2021. Great. Thank you so much.\\n\\nThis meeting was a discussion among the project teams of ALG (Athens Learning Group) which is a program that has been running since 2014. Each team discussed their project which involves transforming a textbook to an open stacks textbook and creating activities and simulations to engage students. The teams are from the University of West Georgia, Clayton State, University of North Georgia, and Georgia Gwinnett College. The projects are for Spanish, microbiology, introductory physics, and anthropology courses respectively. All of the projects are expected to be completed by the fall of 2021.\",\n",
              " \"to understand. So we're trying to make it more accessible. We have a lot of resources. We're trying to make it more engaging. We're trying to get more visuals in there, more videos, more interactive elements. And we're also trying to get more contemporary examples of traditional engineering concepts. We're also trying to hire a couple of students to help us write vignettes and case studies and give us feedback on how engaging these chapters are. Our timeline is similar to everyone else's and we'll let you know how the engaging students goes.\\n\\nThis is a meeting transcript from a group of 8 people from various universities who have received a grant to transform and introduction to anthropology textbook, create engaging contemporary examples of traditional anthropology concepts, create new custom lab manuals for an introductory biology sequence, transform textbooks and lab materials for two courses on autonomous vehicle sensors and PLC programmable logic controllers, move from a custom published text to proprietary materials for English 1101 and 1102, and create a math primer, videos, and online resources to improve understanding and retention in engineering courses. They are all working to create materials that are up to date, suitable for their students, and cost-saving for them. They plan to have the materials live by fall and will update the group on their progress.\",\n",
              " \"are going to focus on the senior level course in our department, which is a fluid mechanics course. And we are going to develop a series of videos and online resources to help the students get up to speed on the topics that are covered in the course. We have seen in the past that a lot of students drop the course or fail because they don't have the prerequisite knowledge required for the course. So our goal is to create a math primer that will help the students get up to speed on the material and make it easier for them to understand the concepts. We have already done this for one or two semesters, but the feedback we have gotten is that the material is still too difficult for some of the students. This is understandable since some of them have failed calculus multiple times. We are going to keep on making the videos and trying to make the material accessible to students on different levels. We are also going to contact Amy Battles, as it seems she is working on something for physics, to see if we can share materials.\\n\\nThis project is focused on creating a math primer for a senior level fluid mechanics course at Kennesaw State University in order to help students get up to speed on the material and make it easier for them to understand the concepts. The team consists of 5 faculty members, a library and a graduate student assistant. The goal is to create a series of videos and online resources to help the students get up to speed on the topics covered in the course, as many students have dropped the course or failed due to not having enough prerequisites. The team has already done this for one or two semesters, but the feedback has been that the material is still too difficult. They are going to keep on making the videos and try to make the material accessible to students on different levels, and they are also going to contact Amy Battles to see if they can share materials.\",\n",
              " \"the beginning, 50% at the end is also a way to make sure that we have a way of monitoring the progress of the project. So that way we can see how the project is going. That's why we have the invoices and the reports.\\n\\nThis meeting discussed the instructional changes for a calculus sequence at Kennesaw State University. Five faculty members and a library are part of the team, and a graduate student assistant will also be recruited. The project involves writing a new textbook with open source materials and their own new materials, as well as creating instructor solutions and interactive components. The timeline for the project is one year. The meeting then moved on to discussing grant procedures and paperwork, such as service level agreements, invoices, and reports. The grant funding is given to the institution to complete the project, and is released in two parts: 50% when the service level agreement is signed and 50% upon submission of the final report.\",\n",
              " \"breached, then you can't go and sue the state. That's just standard.\\n\\nThis meeting transcript discussed the service level agreement between the USG and the institution for a project. It outlined the roles and responsibilities of the institution, the project start and end dates, how project funding works, what to do if something goes wrong, and other legal compliance information. The USG will work with the institution to ensure the success of the project and will evaluate the amount of work completed if the project cannot be completed.\",\n",
              " \"up on the project that you need to do? Any other questions that you need to ask us? So that's the semester status report.\\n\\nThis meeting transcript discusses the process of drafting and executing a service level agreement (SLA) between the USG and the project leads. It outlines the steps of the process, including the legal compliance and anti-discrimination clauses, the need for signatures from both parties, the request for proposals, and the statement of work. It also covers the role of the business office, the purchase order number, and the need for the invoice to come from the institution rather than the individual. Finally, it covers the semester status report, which is a Google form with information on the team members, the project's progress, and any questions they may have.\",\n",
              " 'these in a much shorter period of time. But this is the stuff that I wanted to make sure that everybody knew about.\\n\\nThis email is to inform all ALG grantees of the upcoming reporting deadlines for their projects. The deadlines are December 19th, May 15th, August 14th, and December 18th. Additionally, a final report is due at the end of the final semester of the project, which is Fall 2023. The final report form is available on the Grants Information Center page, which will also be included in a follow up email with the kickoff recording. Transformations grants have a few extra questions on the form, so a Word document version of the narrative is recommended. Photos are optional, but if taken, should include the entire team. Second invoices should be sent to Dina Anderson at dina.anderson@usg.edu. Any questions or personal inquiries should be sent directly to Jeff Gallant at jeff.gallant@usg.edu. Finally, the ALGGRANTEES listserv is available for all grantees, and any publishing opportunities will be shared with them.',\n",
              " 'The meeting discussed logistics for the upcoming holiday break, such as sending documents to an administrator and having the grants Information Center link saved. It was also mentioned that questions can be asked in the chat or via email, and the recording was stopped at the end. Everyone was thanked and wished a happy holiday break.']"
            ]
          },
          "metadata": {},
          "execution_count": 23
        }
      ]
    },
    {
      "cell_type": "code",
      "source": [
        "prompt_tokens"
      ],
      "metadata": {
        "colab": {
          "base_uri": "https://localhost:8080/",
          "height": 34
        },
        "id": "tG4qzIMDyGeU",
        "outputId": "8e415974-9d4a-4d99-84a6-ce2997aa8bd6"
      },
      "execution_count": 24,
      "outputs": [
        {
          "output_type": "display_data",
          "data": {
            "text/plain": [
              "<IPython.core.display.HTML object>"
            ],
            "text/html": [
              "\n",
              "  <style>\n",
              "    pre {\n",
              "        white-space: pre-wrap;\n",
              "    }\n",
              "  </style>\n",
              "  "
            ]
          },
          "metadata": {}
        },
        {
          "output_type": "execute_result",
          "data": {
            "text/plain": [
              "[2101, 2147, 2189, 2268, 2388, 2202, 2112, 2166, 2238, 508]"
            ]
          },
          "metadata": {},
          "execution_count": 24
        }
      ]
    },
    {
      "cell_type": "code",
      "source": [
        "total = 0\n",
        "\n",
        "for e in range(0, len(prompt_tokens)):\n",
        "    total = total + prompt_tokens[e]\n",
        "\n",
        "print(\"Sum of all elements in given list: \", total)"
      ],
      "metadata": {
        "colab": {
          "base_uri": "https://localhost:8080/",
          "height": 34
        },
        "id": "zNYP54XJyK6d",
        "outputId": "25bd9c79-2298-4f42-87c2-e339e044252c"
      },
      "execution_count": 25,
      "outputs": [
        {
          "output_type": "display_data",
          "data": {
            "text/plain": [
              "<IPython.core.display.HTML object>"
            ],
            "text/html": [
              "\n",
              "  <style>\n",
              "    pre {\n",
              "        white-space: pre-wrap;\n",
              "    }\n",
              "  </style>\n",
              "  "
            ]
          },
          "metadata": {}
        },
        {
          "output_type": "stream",
          "name": "stdout",
          "text": [
            "Sum of all elements in given list:  20319\n"
          ]
        }
      ]
    },
    {
      "cell_type": "markdown",
      "source": [
        "####2.8.2. Consolidate the Meeting Transcript Summaries."
      ],
      "metadata": {
        "id": "rL1451Igozer"
      }
    },
    {
      "cell_type": "code",
      "source": [
        "prompt_request = \"Consoloidate these meeting summaries: \" + str(prompt_response)\n",
        "\n",
        "loop = asyncio.get_event_loop()\n",
        "response = loop.run_until_complete(summarize_meeting(prompt = prompt_request, timeout=45, max_tokens = 1000))"
      ],
      "metadata": {
        "colab": {
          "base_uri": "https://localhost:8080/",
          "height": 17
        },
        "id": "-7x55bTiDxjl",
        "outputId": "a3747f23-e3fb-43b1-bb4e-ab8e486e7097"
      },
      "execution_count": 27,
      "outputs": [
        {
          "output_type": "display_data",
          "data": {
            "text/plain": [
              "<IPython.core.display.HTML object>"
            ],
            "text/html": [
              "\n",
              "  <style>\n",
              "    pre {\n",
              "        white-space: pre-wrap;\n",
              "    }\n",
              "  </style>\n",
              "  "
            ]
          },
          "metadata": {}
        }
      ]
    },
    {
      "cell_type": "code",
      "source": [
        "print(response.json()[\"choices\"][0][\"text\"].strip())"
      ],
      "metadata": {
        "colab": {
          "base_uri": "https://localhost:8080/",
          "height": 295
        },
        "id": "BPCikHxKEHcS",
        "outputId": "ac5d6eb1-493e-49c9-e859-da52c041ea48"
      },
      "execution_count": 28,
      "outputs": [
        {
          "output_type": "display_data",
          "data": {
            "text/plain": [
              "<IPython.core.display.HTML object>"
            ],
            "text/html": [
              "\n",
              "  <style>\n",
              "    pre {\n",
              "        white-space: pre-wrap;\n",
              "    }\n",
              "  </style>\n",
              "  "
            ]
          },
          "metadata": {}
        },
        {
          "output_type": "stream",
          "name": "stdout",
          "text": [
            "This meeting discussed the Affordable Learning Georgia (ALG) website, which is a hub for grantees to access resources including open educational resources, grant procedures, reporting deadlines, and grantee listserv. The two main repositories for OER created from the grants were discussed, and the features of the new Manifold platform were shared. Training resources were also highlighted. Additionally, ALG project teams from the University of West Georgia, Clayton State, University of North Georgia, and Georgia Gwinnett College discussed their projects which involve transforming a textbook to an open stacks textbook and creating activities and simulations to engage students. These projects are for Spanish, microbiology, introductory physics, and anthropology courses respectively, and are all expected to be completed by the fall of 2021. The team from Kennesaw State University is focused on creating a math primer for a senior level fluid mechanics course in order to help students get up to speed on the material and make it easier for them to understand the concepts. The project involves writing a new textbook with open source materials and their own new materials, as well as creating instructor solutions and interactive components. The timeline for the project is one year. The meeting then moved on to discussing grant procedures and paperwork, such as service level agreements, invoices, and reports. The grant funding is given to the institution to complete the project, and is released in two parts: 50% when the service level agreement is signed and 50% upon submission of the final report. The USG will work with the institution to ensure the success of the project and will evaluate the amount of work completed if the project cannot be completed. Lastly, the ALGGRANTEES listserv is available for all grantees, and any publishing opportunities will be shared with them. The meeting discussed logistics for the upcoming holiday break, such as sending documents to an administrator and having the grants Information Center link saved. It was also mentioned that questions can be asked in the chat or via email, and the recording was stopped at the end. Everyone was thanked and wished a happy holiday break.\n"
          ]
        }
      ]
    },
    {
      "cell_type": "code",
      "source": [
        "print(response.json()[\"usage\"][\"total_tokens\"])"
      ],
      "metadata": {
        "colab": {
          "base_uri": "https://localhost:8080/",
          "height": 34
        },
        "id": "g5jq-RLdbG3k",
        "outputId": "5634ed25-04a5-40ab-a04b-09c9560c0f04"
      },
      "execution_count": 30,
      "outputs": [
        {
          "output_type": "display_data",
          "data": {
            "text/plain": [
              "<IPython.core.display.HTML object>"
            ],
            "text/html": [
              "\n",
              "  <style>\n",
              "    pre {\n",
              "        white-space: pre-wrap;\n",
              "    }\n",
              "  </style>\n",
              "  "
            ]
          },
          "metadata": {}
        },
        {
          "output_type": "stream",
          "name": "stdout",
          "text": [
            "2262\n"
          ]
        }
      ]
    },
    {
      "cell_type": "markdown",
      "source": [
        "###2.9. Get Action Items from Meeting Transcript"
      ],
      "metadata": {
        "id": "MRwpgJ1gpPhL"
      }
    },
    {
      "cell_type": "markdown",
      "source": [
        "####2.9.1. Get Action Items from the Meeting Transcript one chunk at a time."
      ],
      "metadata": {
        "id": "nhZfit-nplpx"
      }
    },
    {
      "cell_type": "code",
      "source": [
        "filename = \"/content/drive/MyDrive/Colab Notebooks/minutes/data/Round_22_Online_Kickoff_Meeting.txt\"\n",
        "\n",
        "action_response = []\n",
        "action_tokens = []\n",
        "\n",
        "chunks = break_up_file_to_chunks(filename)\n",
        "\n",
        "for i, chunk in enumerate(chunks):\n",
        "    prompt_request = \"Provide a list of action items with a due date from the provided meeting transcript text: \" + tokenizer.decode(chunks[i])\n",
        "    \n",
        "    loop = asyncio.get_event_loop()\n",
        "    response = loop.run_until_complete(summarize_meeting(prompt = prompt_request, timeout=30, max_tokens = 1000))\n",
        "    \n",
        "    action_response.append(response.json()[\"choices\"][0][\"text\"].strip())\n",
        "    action_tokens.append(response.json()[\"usage\"][\"total_tokens\"])"
      ],
      "metadata": {
        "colab": {
          "base_uri": "https://localhost:8080/",
          "height": 52
        },
        "id": "JvHJV8KeUzeS",
        "outputId": "93ae25a7-a5f2-44b8-ce9a-8d4af65d4c85"
      },
      "execution_count": 31,
      "outputs": [
        {
          "output_type": "display_data",
          "data": {
            "text/plain": [
              "<IPython.core.display.HTML object>"
            ],
            "text/html": [
              "\n",
              "  <style>\n",
              "    pre {\n",
              "        white-space: pre-wrap;\n",
              "    }\n",
              "  </style>\n",
              "  "
            ]
          },
          "metadata": {}
        },
        {
          "output_type": "stream",
          "name": "stderr",
          "text": [
            "Token indices sequence length is longer than the specified maximum sequence length for this model (17537 > 1024). Running this sequence through the model will result in indexing errors\n"
          ]
        }
      ]
    },
    {
      "cell_type": "code",
      "source": [
        "print(action_response)"
      ],
      "metadata": {
        "colab": {
          "base_uri": "https://localhost:8080/",
          "height": 1000
        },
        "id": "ZNzPeL8SVJSG",
        "outputId": "dcfa2e72-48c3-4057-9c74-69f89189bd01"
      },
      "execution_count": 32,
      "outputs": [
        {
          "output_type": "display_data",
          "data": {
            "text/plain": [
              "<IPython.core.display.HTML object>"
            ],
            "text/html": [
              "\n",
              "  <style>\n",
              "    pre {\n",
              "        white-space: pre-wrap;\n",
              "    }\n",
              "  </style>\n",
              "  "
            ]
          },
          "metadata": {}
        },
        {
          "output_type": "stream",
          "name": "stdout",
          "text": [
            "[\". So if you've just joined us, you can go in here and see what the kickoff training is all about. Action Items:\\n\\n1. Introduce yourself (due immediately)\\n2. Bookmark the ALG grants page (due immediately)\\n3. Submit a report using the templates and forms (due December 19th)\\n4. Join the ALG grants listserv (due immediately)\\n5. Convert any materials into an instance of Manifold (due date TBD)\", ', please turn your cameras on so we can see each other. \\n\\nAction Items: \\n1. Work with grant recipients to get any materials created into an instance of Manifold by February 15th \\n2. Provide training resources for grant recipients, including Champions Welcome Training and Kickoff Training by February 15th \\n3. Create entries in Manifold and Galileo Open Learning Materials to make resources maximally discoverable by February 15th \\n4. Create a new ALG website by February 15th \\n5. Create a new Data Page by February 15th \\n6. Create a new ALG Events page by February 15th \\n7. Create a new way to announce news and events by February 15th \\n8. Create a link to Manifold from Galileo Open Learning Materials by February 15th \\n9. Create a new ALG Tracking spreadsheet by February 15th \\n10. Contact grant recipients yearly for the Sustainability Survey by February 15th', \"to do some of the work. So we're really excited about that. And then we're also going to be creating a lot of multimedia content to go along with the textbook. So we're really excited to get started on that. Excellent. Thank you so much.\\n\\nAction Items: \\n1. Begin hiring process for ALG Program Manager (January) \\n2. Start formatting for Yvonne Fuentes’ team’s project (Brian Roberts) \\n3. Generate demonstration videos and develop group work activities for William Kenyon’s team \\n4. Redevelop laboratory component for Dmitriy Beznosko’s team \\n5. Change grading system for Lori Wilson’s team \\n6. Remove expensive textbook for Lori Wilson’s team \\n7. Create engaging contemporary examples for Jenna Andrews Swann’s team \\n8. Hire students to work on Jenna Andrews Swann’s team \\n9. Create multimedia content for Jenna Andrews Swann’s team \\n\\nDue Dates: \\n1. January \\n2. Immediately \\n3. Immediately \\n4. Immediately \\n5. Immediately \\n6. Immediately \\n7. Immediately \\n8. Immediately \\n9. Immediately\", \"for them to understand and so we're looking to expand on that. And we're also looking to to create a library of resources that can be used for other classes, not just fluid mechanics, but also for other engineering classes. So our timeline is pretty much the same as everyone else's. We're hoping to be done by the fall and we will be testing it out for the next semester. So yeah, that's pretty much it. Thank you very much.\\n\\nAction Items:\\n\\n1. Hire students to write vignettes and case studies for the textbook (Due Date: August 1st)\\n\\n2. Develop instructional videos with annotations (Due Date: August 15th)\\n\\n3. Rewrite and add labs (Due Date: September 1st)\\n\\n4. Create new custom lab manuals (Due Date: September 15th)\\n\\n5. Develop comprehensive textbook package (Due Date: October 1st)\\n\\n6. Create videos over concepts and problem solving (Due Date: October 15th)\\n\\n7. Create math primer and online resources (Due Date: November 1st)\\n\\n8. Create library of resources for other classes (Due Date: November 15th)\", \"are focusing on the electrical and computer engineering design course. This is a sophomore level course and it's a required course for all of our electrical and computer engineering students. And this course is a really important course for our students because it helps them to learn the fundamentals of design. And also it helps them to learn the fundamentals of electrical and computer engineering. So this course is kind of a gateway course for our students. And our goal is to create a digital textbook that is much more affordable than the current one, and also we want to create some online resources that will help our students to learn the material better. And also we are going to create some online labs that will help our students to understand the design process better. And also we are going to create some online resources that will help our students to learn the fundamentals of electrical and computer engineering. So we are really excited about this project and we are looking forward to working with everyone. Thank you.\\n\\nAction Items: \\n1. Create a math primer with videos and online resources for students with varying levels of prerequisites - Due Date: TBD \\n2. Contact Amy Battles to share materials - Due Date: ASAP \\n3. Create a digital textbook for general chemistry - Due Date: Fall 2022 \\n4. Create an Atlas for Histology and extend it into a workbook - Due Date: TBD \\n5. Create affordable learning modules to replace textbooks with a focus on diversity and inclusion - Due Date: Fall 2021 \\n6. Use OER resources and create own materials to tailor to program and students - Due Date: TBD \\n7. Hire student assistants for usability testing - Due Date: TBD \\n8. Review materials with the university diversity and Inclusion Office - Due Date: TBD \\n9. Adopt calculus OER to help restructure 4 hours of lecture into 3 hours of lecture - Due Date: TBD \\n10. Create problem sets, projects, and instructional videos - Due Date: TBD \\n11. Create a digital textbook for electrical and computer engineering design course - Due Date: TBD \\n12. Create online resources and online labs to help students understand the design process - Due Date: TBD \\n13. Create online resources to help students learn the fundamentals of electrical and computer engineering - Due Date: TBD\", \"the end is to make sure that the project is completed and that you have all of the resources that you need to complete the project. So that's in a nutshell, how funding works. \\n\\nAction Items:\\n\\n1. Submit Statement of Work to USG and Institution for Signature by August 15th\\n2. Submit Invoice for 50% of Funding by August 15th\\n3. Submit Final Report and Invoice for Remaining 50% of Funding by December 15th\", \"terminated, then the USG will not be responsible for any of the expenses that have been incurred. That's just to make sure that we don't have any surprises. So that's about it.\\n\\nAction Items:\\n1. Reach out to business and grants office to ensure the funds are being used towards the project and student success - Due Date: ASAP\\n2. Become familiar with institutional regulations regarding overload pay, course releases, how students are compensated, and how external consultants are paid - Due Date: ASAP\\n3. Ensure the proposal is the most important part of the service level agreement - Due Date: ASAP\\n4. Confirm the starting and ending dates of the project - Due Date: ASAP\\n5. Contact the USG if any changes or issues arise with the project - Due Date: ASAP\\n6. Ensure the USG is aware of any personnel changes or substitutions - Due Date: ASAP\\n7. Make sure the USG is aware of any expenses incurred - Due Date: ASAP\", \"up with the team? Any changes in the team? Any other questions that you have for us? That's all in the form.\\n\\nAction Item #1: Draft SLAs by Monday - Due Date: Monday \\n\\nAction Item #2: Reach out to business or grants office if anything looks weird in SLAs - Due Date: Monday \\n\\nAction Item #3: Send SLAs to project leads - Due Date: Monday \\n\\nAction Item #4: Send signed SLA to USG - Due Date: N/A \\n\\nAction Item #5: Receive requisition from USG - Due Date: N/A \\n\\nAction Item #6: Receive purchase order number from USG - Due Date: N/A \\n\\nAction Item #7: Receive first invoice from institution - Due Date: N/A \\n\\nAction Item #8: Submit semester status report - Due Date: Spring 2023\", \"a walkthrough of the final report form, but it's going to take a really long time and I don't want to take up this entire session doing that. So I'm going to just leave it at this and I'm going to go ahead and wrap up.\\n\\nAction Items:\\n-Send SLAs and invoices to Dina Anderson (dina.anderson@usg.edu) by Monday, December 14th -Submit Final Report Word document to Grants Information Center page by Monday, December 19th -Submit Final Report Narrative, data, syllabi, and photo (optional) to Grants Information Center page by Monday, December 19th -Submit Spring 2023 Semester Status Report to Grants Information Center page by Monday, May 15th -Submit Summer 2023 Semester Status Report to Grants Information Center page by Monday, August 14th -Submit Fall 2023 Semester Status Report to Grants Information Center page by Monday, December 18th\", 'Action Item #1: Karen to send e-mail with timeline - Due Date: ASAP \\nAction Item #2: Everyone to save Grants Information Center link - Due Date: ASAP \\nAction Item #3: Everyone to reach out with questions - Due Date: January \\nAction Item #4: Send documents to administrator - Due Date: Between 16th and 2nd']\n"
          ]
        }
      ]
    },
    {
      "cell_type": "code",
      "source": [
        "action_tokens"
      ],
      "metadata": {
        "colab": {
          "base_uri": "https://localhost:8080/",
          "height": 34
        },
        "id": "ChC54XHocV9q",
        "outputId": "cc2f7fce-e63f-4cbb-aa58-203b8d534fd2"
      },
      "execution_count": 33,
      "outputs": [
        {
          "output_type": "display_data",
          "data": {
            "text/plain": [
              "<IPython.core.display.HTML object>"
            ],
            "text/html": [
              "\n",
              "  <style>\n",
              "    pre {\n",
              "        white-space: pre-wrap;\n",
              "    }\n",
              "  </style>\n",
              "  "
            ]
          },
          "metadata": {}
        },
        {
          "output_type": "execute_result",
          "data": {
            "text/plain": [
              "[2119, 2223, 2289, 2266, 2486, 2117, 2223, 2216, 2213, 534]"
            ]
          },
          "metadata": {},
          "execution_count": 33
        }
      ]
    },
    {
      "cell_type": "code",
      "source": [
        "total = 0\n",
        "\n",
        "for e in range(0, len(action_tokens)):\n",
        "    total = total + action_tokens[e]\n",
        "\n",
        "print(\"Sum of all elements in given list: \", total)"
      ],
      "metadata": {
        "colab": {
          "base_uri": "https://localhost:8080/",
          "height": 34
        },
        "id": "IhOIt6ilca_q",
        "outputId": "8ccc45de-a132-4b57-91be-366817eda79a"
      },
      "execution_count": 34,
      "outputs": [
        {
          "output_type": "display_data",
          "data": {
            "text/plain": [
              "<IPython.core.display.HTML object>"
            ],
            "text/html": [
              "\n",
              "  <style>\n",
              "    pre {\n",
              "        white-space: pre-wrap;\n",
              "    }\n",
              "  </style>\n",
              "  "
            ]
          },
          "metadata": {}
        },
        {
          "output_type": "stream",
          "name": "stdout",
          "text": [
            "Sum of all elements in given list:  20686\n"
          ]
        }
      ]
    },
    {
      "cell_type": "markdown",
      "source": [
        "####2.9.2. Consolidate the Meeting Transcript Action Items."
      ],
      "metadata": {
        "id": "_Od7s1fwpdy3"
      }
    },
    {
      "cell_type": "code",
      "source": [
        "prompt_request = \"Consoloidate these meeting action items, but exclude action items with Due Date of Immediately: \" + str(action_response)\n",
        "\n",
        "loop = asyncio.get_event_loop()\n",
        "response = loop.run_until_complete(summarize_meeting(prompt = prompt_request, timeout=45, max_tokens = 1000))"
      ],
      "metadata": {
        "colab": {
          "base_uri": "https://localhost:8080/",
          "height": 17
        },
        "id": "MISAIRbJWamn",
        "outputId": "8d75bbbb-8104-4f8f-f091-4c9006a6c3f5"
      },
      "execution_count": 39,
      "outputs": [
        {
          "output_type": "display_data",
          "data": {
            "text/plain": [
              "<IPython.core.display.HTML object>"
            ],
            "text/html": [
              "\n",
              "  <style>\n",
              "    pre {\n",
              "        white-space: pre-wrap;\n",
              "    }\n",
              "  </style>\n",
              "  "
            ]
          },
          "metadata": {}
        }
      ]
    },
    {
      "cell_type": "code",
      "source": [
        "print(response.json()[\"choices\"][0][\"text\"].strip())"
      ],
      "metadata": {
        "colab": {
          "base_uri": "https://localhost:8080/",
          "height": 954
        },
        "id": "5b3aowAFWjdY",
        "outputId": "3fc5bd3a-a0bb-45cf-96da-094eb64e1c91"
      },
      "execution_count": 40,
      "outputs": [
        {
          "output_type": "display_data",
          "data": {
            "text/plain": [
              "<IPython.core.display.HTML object>"
            ],
            "text/html": [
              "\n",
              "  <style>\n",
              "    pre {\n",
              "        white-space: pre-wrap;\n",
              "    }\n",
              "  </style>\n",
              "  "
            ]
          },
          "metadata": {}
        },
        {
          "output_type": "stream",
          "name": "stdout",
          "text": [
            "Consolidated Action Items: \n",
            "1. Introduce yourself (due immediately)\n",
            "2. Bookmark the ALG grants page (due immediately)\n",
            "3. Submit a report using the templates and forms (due December 19th)\n",
            "4. Join the ALG grants listserv (due immediately)\n",
            "5. Work with grant recipients to get any materials created into an instance of Manifold by February 15th \n",
            "6. Provide training resources for grant recipients, including Champions Welcome Training and Kickoff Training by February 15th \n",
            "7. Create entries in Manifold and Galileo Open Learning Materials to make resources maximally discoverable by February 15th \n",
            "8. Create a new ALG website by February 15th \n",
            "9. Create a new Data Page by February 15th \n",
            "10. Create a new ALG Events page by February 15th \n",
            "11. Create a new way to announce news and events by February 15th \n",
            "12. Create a link to Manifold from Galileo Open Learning Materials by February 15th \n",
            "13. Create a new ALG Tracking spreadsheet by February 15th \n",
            "14. Contact grant recipients yearly for the Sustainability Survey by February 15th \n",
            "15. Begin hiring process for ALG Program Manager (January) \n",
            "16. Start formatting for Yvonne Fuentes’ team’s project (Brian Roberts) \n",
            "17. Generate demonstration videos and develop group work activities for William Kenyon’s team \n",
            "18. Redevelop laboratory component for Dmitriy Beznosko’s team \n",
            "19. Change grading system for Lori Wilson’s team \n",
            "20. Remove expensive textbook for Lori Wilson’s team \n",
            "21. Create engaging contemporary examples for Jenna Andrews Swann’s team \n",
            "22. Hire students to work on Jenna Andrews Swann’s team \n",
            "23. Create multimedia content for Jenna Andrews Swann’s team \n",
            "24. Hire students to write vignettes and case studies for the textbook (Due Date: August 1st)\n",
            "25. Develop instructional videos with annotations (Due Date: August 15th)\n",
            "26. Rewrite and add labs (Due Date: September 1st)\n",
            "27. Create new custom lab manuals (Due Date: September 15th)\n",
            "28. Develop comprehensive textbook package (Due Date: October 1st)\n",
            "29. Create videos over concepts and problem solving (Due Date: October 15th)\n",
            "30. Create math primer and online resources (Due Date: November 1st)\n",
            "31. Create library of resources for other classes (Due Date: November 15th)\n",
            "32. Create a math primer with videos and online resources for students with varying levels of prerequisites - Due Date: TBD \n",
            "33. Contact Amy Battles to share materials - Due Date: ASAP \n",
            "34. Create a digital textbook for general chemistry - Due Date: Fall 2022 \n",
            "35. Create an Atlas for Histology and extend it into a workbook - Due Date: TBD \n",
            "36. Create affordable learning modules to replace textbooks with a focus on diversity and inclusion - Due Date: Fall 2021 \n",
            "37. Use OER resources and create own materials to tailor to program and students - Due Date: TBD \n",
            "38. Hire student assistants for usability testing - Due Date: TBD \n",
            "39. Review materials with the university diversity and Inclusion Office - Due Date: TBD \n",
            "40. Adopt calculus OER to help restructure 4 hours of lecture into 3 hours of lecture - Due Date: TBD \n",
            "41. Create problem sets, projects, and instructional videos - Due Date: TBD \n",
            "42. Create a digital textbook for electrical and computer engineering design course - Due Date: TBD \n",
            "43. Create online resources and online labs to help students understand the design process - Due Date: TBD \n",
            "44. Create online resources to help students learn the fundamentals of electrical and computer engineering - Due Date: TBD \n",
            "45. Submit Statement of Work to USG and Institution for Signature by August 15th \n",
            "46. Submit Invoice for 50% of Funding by August 15th \n",
            "47. Submit Final Report and Invoice for Remaining 50% of Funding by December 15th \n",
            "48. Reach out to business and grants office to ensure the funds are being used towards the project and student success - Due Date: ASAP \n",
            "49. Become familiar with institutional regulations regarding overload pay, course releases, how students are compensated, and how external consultants are paid - Due Date: ASAP \n",
            "50. Ensure the proposal is the most important part of the service level agreement - Due Date: ASAP \n",
            "51. Confirm the starting and ending dates of the project - Due Date: ASAP \n",
            "52. Contact the USG if any changes or issues arise with the project - Due Date:\n"
          ]
        }
      ]
    },
    {
      "cell_type": "code",
      "source": [
        "print(response.json()[\"usage\"][\"total_tokens\"])"
      ],
      "metadata": {
        "colab": {
          "base_uri": "https://localhost:8080/",
          "height": 34
        },
        "id": "G3IG4OdOmZ5n",
        "outputId": "05157e67-0c66-4cb7-9451-e8c59bc645b9"
      },
      "execution_count": 41,
      "outputs": [
        {
          "output_type": "display_data",
          "data": {
            "text/plain": [
              "<IPython.core.display.HTML object>"
            ],
            "text/html": [
              "\n",
              "  <style>\n",
              "    pre {\n",
              "        white-space: pre-wrap;\n",
              "    }\n",
              "  </style>\n",
              "  "
            ]
          },
          "metadata": {}
        },
        {
          "output_type": "stream",
          "name": "stdout",
          "text": [
            "3137\n"
          ]
        }
      ]
    }
  ]
}